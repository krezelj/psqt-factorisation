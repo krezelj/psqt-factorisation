{
 "cells": [
  {
   "cell_type": "code",
   "execution_count": 2,
   "metadata": {},
   "outputs": [],
   "source": [
    "import numpy as np\n",
    "from psqt import *"
   ]
  },
  {
   "cell_type": "code",
   "execution_count": 301,
   "metadata": {},
   "outputs": [],
   "source": [
    "components = np.load('results/trial11/c12.npy')\n",
    "weights = np.load('results/trial11/w12.npy')"
   ]
  },
  {
   "cell_type": "code",
   "execution_count": 302,
   "metadata": {},
   "outputs": [],
   "source": [
    "mean_raw_values = np.round(np.mean(raw_pesto_psqt, axis=0))\n",
    "pesto_piece_values_matrix = np.tile(pesto_piece_values + mean_raw_values, 64).reshape(64, 12)\n",
    "pesto_piece_values_matrix = np.round(pesto_piece_values_matrix / 9) * 9\n",
    "# new_raw_values = pesto_psqt - pesto_piece_values_matrix\n",
    "\n",
    "psqt = components @ np.concatenate([weights]) + pesto_piece_values_matrix"
   ]
  },
  {
   "cell_type": "code",
   "execution_count": null,
   "metadata": {},
   "outputs": [],
   "source": [
    "np.mean((np.abs(psqt - pesto_psqt) / pesto_psqt) * importance_mask)"
   ]
  },
  {
   "cell_type": "code",
   "execution_count": 304,
   "metadata": {},
   "outputs": [],
   "source": [
    "def psqt_to_cs_array(psqt):\n",
    "    psqt = psqt.copy().astype(np.int32)\n",
    "    psqt = psqt[:,np.array([0,2,4,6,8,10,1,3,5,7,9,11])]  # first mg and then eg\n",
    "    output = \"new int[][] {\\n\"\n",
    "    for square in range(64):\n",
    "        output += '\\tnew int[] {'\n",
    "        for piece in range(12):\n",
    "            output += f'{psqt[square, piece]}' + (', ' if piece < 11 else '},\\n')\n",
    "    output += '};'\n",
    "    return output"
   ]
  },
  {
   "cell_type": "code",
   "execution_count": 256,
   "metadata": {},
   "outputs": [],
   "source": [
    "with open('cs_array.txt', 'w') as f:\n",
    "    f.writelines(psqt_to_cs_array(psqt))"
   ]
  },
  {
   "cell_type": "code",
   "execution_count": 341,
   "metadata": {},
   "outputs": [],
   "source": [
    "components = np.load('results/trial11/c10.npy')\n",
    "weights = np.load('results/trial11/w10.npy')"
   ]
  },
  {
   "cell_type": "code",
   "execution_count": 342,
   "metadata": {},
   "outputs": [],
   "source": [
    "mean_raw_values = np.round(np.mean(raw_pesto_psqt, axis=0))\n",
    "pesto_piece_values_matrix = np.tile(pesto_piece_values + mean_raw_values, 64).reshape(64, 12)\n",
    "pesto_piece_values_matrix = np.round(pesto_piece_values_matrix / 9) * 9 "
   ]
  },
  {
   "cell_type": "code",
   "execution_count": 343,
   "metadata": {},
   "outputs": [],
   "source": [
    "def encode_component(component : np.array):\n",
    "    component = component.astype(np.int32)\n",
    "    ulong = 0x1000000000000000\n",
    "    for bit in component[::-1]:\n",
    "        ulong = (ulong << 1) | bit\n",
    "    return ulong.astype(np.uint64) & 0xffffffffffffffff \n",
    "\n",
    "\n",
    "def encode_weights(weights : np.array):\n",
    "    weights = weights.astype(np.uint8)\n",
    "    hex_string = \"0x\"\n",
    "    for weight in weights:\n",
    "        # print(\"{0:#0{1}x}\".format(weight,4))\n",
    "        hex_string += \"{0:#0{1}x}\".format(weight,4)[-2:]\n",
    "    return int(hex_string, 16)\n",
    "\n",
    "def get_component_array(components : np.array):\n",
    "    output = \"new ulong[] {\\n\\t\"\n",
    "    for component in components.T:\n",
    "        output += hex(encode_component(component)) + ',\\n\\t'\n",
    "    output += '};'\n",
    "    return output\n",
    "\n",
    "def get_weight_array(all_weights: np.array, piece_values: np.array):\n",
    "    output = \"new decimal[] {\\n\\t\"\n",
    "    for weights in all_weights[:, [11, 9, 7, 5, 3, 1, 10, 8, 6, 4, 2, 0]]:\n",
    "        output += str(encode_weights(weights)) + 'm,\\n\\t'\n",
    "    output += str(encode_weights(np.round(piece_values[[11, 9, 7, 5, 3, 1, 10, 8, 6, 4, 2, 0]] / 9))) + 'm,\\n\\t'\n",
    "    output += '};'\n",
    "    return output\n",
    "    "
   ]
  },
  {
   "cell_type": "code",
   "execution_count": null,
   "metadata": {},
   "outputs": [],
   "source": [
    "print(get_component_array(components))"
   ]
  },
  {
   "cell_type": "code",
   "execution_count": null,
   "metadata": {},
   "outputs": [],
   "source": [
    "print(get_weight_array(weights, pesto_piece_values_matrix[0,:]))"
   ]
  }
 ],
 "metadata": {
  "kernelspec": {
   "display_name": "Python 3",
   "language": "python",
   "name": "python3"
  },
  "language_info": {
   "codemirror_mode": {
    "name": "ipython",
    "version": 3
   },
   "file_extension": ".py",
   "mimetype": "text/x-python",
   "name": "python",
   "nbconvert_exporter": "python",
   "pygments_lexer": "ipython3",
   "version": "3.11.2"
  },
  "orig_nbformat": 4
 },
 "nbformat": 4,
 "nbformat_minor": 2
}
