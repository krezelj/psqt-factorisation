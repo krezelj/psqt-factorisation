{
 "cells": [
  {
   "cell_type": "code",
   "execution_count": 1,
   "metadata": {},
   "outputs": [],
   "source": [
    "%load_ext autoreload\n",
    "%autoreload 2"
   ]
  },
  {
   "cell_type": "code",
   "execution_count": 2,
   "metadata": {},
   "outputs": [],
   "source": [
    "import numpy as np\n",
    "from specimens import PSQTFactorisation\n",
    "from evolution import Evolution\n",
    "import seaborn as sns\n",
    "import matplotlib.pyplot as plt\n",
    "from psqt import *\n",
    "from utils import *\n",
    "import sqlite3\n",
    "from sklearn.metrics import mean_squared_error as mse"
   ]
  },
  {
   "cell_type": "code",
   "execution_count": 3,
   "metadata": {},
   "outputs": [],
   "source": [
    "dbfile = './fen/test.db'\n",
    "con = sqlite3.connect(dbfile)\n",
    "cur = con.cursor()\n",
    "fen_list = np.array([entry[0] for entry in cur.execute(\"SELECT fen FROM evaluations LIMIT 500000\")])"
   ]
  },
  {
   "cell_type": "code",
   "execution_count": 4,
   "metadata": {},
   "outputs": [],
   "source": [
    "mean_raw_values = np.round(np.mean(raw_pesto_psqt, axis=0))\n",
    "pesto_piece_values_matrix = np.tile(pesto_piece_values + mean_raw_values, 64).reshape(64, 12)\n",
    "pesto_piece_values_matrix = np.round(pesto_piece_values_matrix / 9) * 9 \n",
    "new_raw_values = pesto_psqt - pesto_piece_values_matrix\n",
    "\n",
    "PSQTFactorisation.use_target_psqts(np.round(new_raw_values / 1) * 1 + pesto_piece_values_matrix)\n",
    "PSQTFactorisation.use_piece_values(pesto_piece_values_matrix)"
   ]
  },
  {
   "cell_type": "code",
   "execution_count": 5,
   "metadata": {},
   "outputs": [],
   "source": [
    "def get_evolution(seed=None, generation_size=20):\n",
    "    e = Evolution(\n",
    "    PSQTFactorisation, \n",
    "    generation_size=generation_size, \n",
    "    top_k=1, \n",
    "    allow_crossover=False, \n",
    "    mutation_args={'p_weight': 0.005, 'p_component': 0.002, 'm_component': 1, 'm_weight': 3},\n",
    "    init_args={'n_components': 0,\n",
    "               'cw_ratio': 1, \n",
    "               'component_range': [0, 1], \n",
    "               'weight_range': [-128, 127], \n",
    "               'integer_weights': True, \n",
    "               'loss_fn': 'mse'})\n",
    "    if seed is None:\n",
    "        return e\n",
    "    \n",
    "    all_specimens = np.array([seed.copy() for _ in range(generation_size)])\n",
    "    for s in all_specimens:\n",
    "        s.mutate(p_weight=0.1, p_component=0.1, m_weight=20)\n",
    "    all_specimens[0] = seed.copy()\n",
    "    e.all_specimens = all_specimens\n",
    "    return e\n",
    "\n",
    "\n",
    "def add_component(s, max_components):\n",
    "    if s.n_components >= max_components:\n",
    "        return\n",
    "    s.n_components = s.n_components + 1\n",
    "    s.n_weights = s.n_weights + 1\n",
    "    s.genes['components'] = np.concatenate([s.genes['components'].T, np.zeros(shape=(1,64))]).T\n",
    "    s.genes['weights'] = np.concatenate([s.genes['weights'], np.zeros(shape=(1,12))])"
   ]
  },
  {
   "cell_type": "code",
   "execution_count": 38,
   "metadata": {},
   "outputs": [
    {
     "name": "stdout",
     "output_type": "stream",
     "text": [
      "-59.35546875\n",
      "(64, 14)\n"
     ]
    }
   ],
   "source": [
    "# components = np.load('results/trial7/c14.npy')\n",
    "# weights = np.load('results/trial7/w14.npy')\n",
    "# seed = PSQTFactorisation(n_components=14, component_range=[0,1], weight_range=[-128, 127], integer_weights=True,\n",
    "#                          genes={'components': components, 'weights': weights})\n",
    "# best=seed\n",
    "# print(seed.evaluate())\n",
    "# print(components.shape)\n",
    "\n",
    "# evolution = get_evolution(seed)"
   ]
  },
  {
   "cell_type": "code",
   "execution_count": 6,
   "metadata": {},
   "outputs": [],
   "source": [
    "wdl_true = get_wdl(pesto_psqt, fen_list)"
   ]
  },
  {
   "cell_type": "code",
   "execution_count": null,
   "metadata": {},
   "outputs": [],
   "source": [
    "N = 1\n",
    "evolutions = []\n",
    "best_score = -1000000\n",
    "best_evolution = None\n",
    "for trial in range(N):\n",
    "    evolution = get_evolution()\n",
    "    last_best_score = -1000000\n",
    "    for iteration in range(10):\n",
    "        for s in evolution.all_specimens:\n",
    "            add_component(s, iteration + 1)\n",
    "        current_best_score = evolution.simulate(100, print_interval=100)[-1]\n",
    "        while current_best_score - last_best_score > 0.1 / (trial + 1):\n",
    "            last_best_score = current_best_score\n",
    "            current_best_score = evolution.simulate(500, print_interval=100)[-1] \n",
    "    b, e = evolution.get_best_specimen()\n",
    "\n",
    "    wdl_hat = get_wdl(b.get_phat(), fen_list)\n",
    "    score = -mse(wdl_true, wdl_hat)\n",
    "    evolutions.append((evolution, score))\n",
    "    if score > best_score:\n",
    "        best_score = score\n",
    "        best_evolution = evolution\n",
    "\n",
    "evolution = best_evolution\n",
    "fh = evolution.fitness_history\n",
    "best, _ = evolution.get_best_specimen()\n",
    "print(best_score)"
   ]
  },
  {
   "cell_type": "code",
   "execution_count": null,
   "metadata": {},
   "outputs": [],
   "source": [
    "# for s in evolution.all_specimens:\n",
    "#     s.n_components = s.n_components + 1\n",
    "#     s.n_weights = s.n_weights + 1\n",
    "#     s.genes['components'] = np.concatenate([s.genes['components'].T, np.zeros(shape=(1,64))]).T\n",
    "#     s.genes['weights'] = np.concatenate([s.genes['weights'], np.zeros(shape=(1,12))])\n",
    "#     # s.loss_fn = 'mse'\n",
    "# evolution.all_specimens[0].evaluate()"
   ]
  },
  {
   "cell_type": "code",
   "execution_count": null,
   "metadata": {},
   "outputs": [],
   "source": [
    "# iterations = 1\n",
    "# for i in range(iterations):\n",
    "#     # PSQTFactorisation.use_fens(np.random.choice(fen_list, 1_000, replace=False))\n",
    "#     print(f\"Iteration: {i+1}\\t\", end=\"\")\n",
    "#     fh = evolution.simulate(5_000, print_interval=100)"
   ]
  },
  {
   "cell_type": "code",
   "execution_count": null,
   "metadata": {},
   "outputs": [],
   "source": [
    "sns.lineplot((np.abs(fh)))"
   ]
  },
  {
   "cell_type": "code",
   "execution_count": 39,
   "metadata": {},
   "outputs": [
    {
     "data": {
      "text/plain": [
       "(64, 14)"
      ]
     },
     "execution_count": 39,
     "metadata": {},
     "output_type": "execute_result"
    }
   ],
   "source": [
    "best.genes['components'].shape\n",
    "best.genes['weights'].min()"
   ]
  },
  {
   "cell_type": "code",
   "execution_count": 55,
   "metadata": {},
   "outputs": [
    {
     "name": "stdout",
     "output_type": "stream",
     "text": [
      "Max:\t30.0\n",
      "MAE:\t5.787760416666667\n",
      "ME:\t-0.08463541666666667\n",
      "MSE:\t59.35546875\n",
      "MRE:\t0.020702883722238576\n"
     ]
    }
   ],
   "source": [
    "diff = np.abs(best.get_phat() - pesto_psqt) * np.minimum(1, importance_mask)\n",
    "\n",
    "print(f\"Max:\\t{diff.max()}\")\n",
    "print(f\"MAE:\\t{diff.mean()}\")\n",
    "print(f\"ME:\\t{np.mean((best.get_phat() - pesto_psqt) * np.minimum(1, importance_mask))}\")\n",
    "print(f\"MSE:\\t{np.mean(np.square((best.get_phat() - pesto_psqt) * np.minimum(1, importance_mask)))}\")\n",
    "print(f\"MRE:\\t{np.mean(diff / pesto_psqt)}\")"
   ]
  },
  {
   "cell_type": "code",
   "execution_count": 43,
   "metadata": {},
   "outputs": [
    {
     "data": {
      "text/plain": [
       "0.9791666666666666"
      ]
     },
     "execution_count": 43,
     "metadata": {},
     "output_type": "execute_result"
    }
   ],
   "source": [
    "np.mean(diff.flatten() < 20)"
   ]
  },
  {
   "cell_type": "code",
   "execution_count": 44,
   "metadata": {},
   "outputs": [
    {
     "data": {
      "text/plain": [
       "<Axes: ylabel='Count'>"
      ]
     },
     "execution_count": 44,
     "metadata": {},
     "output_type": "execute_result"
    },
    {
     "data": {
      "image/png": "[encoded data removed]",
      "text/plain": [
       "<Figure size 640x480 with 1 Axes>"
      ]
     },
     "metadata": {},
     "output_type": "display_data"
    }
   ],
   "source": [
    "sns.histplot(diff.flatten(), bins=int(diff.max() + 1))"
   ]
  },
  {
   "cell_type": "code",
   "execution_count": 32,
   "metadata": {},
   "outputs": [],
   "source": [
    "# np.save('results/trial11/c12.npy', best.genes['components'])\n",
    "# np.save('results/trial11/w12.npy', best.genes['weights'])"
   ]
  },
  {
   "cell_type": "code",
   "execution_count": 45,
   "metadata": {},
   "outputs": [],
   "source": [
    "def plot_all_components(specimen):\n",
    "    n_components = specimen.genes['components'].shape[1]\n",
    "    n_rows = max(2, np.ceil(n_components / 4).astype(np.int32))\n",
    "    fig, axs = plt.subplots(n_rows, 4)\n",
    "    for row in range(n_rows):\n",
    "        for col in range(4):\n",
    "            if row * 4 + col >= n_components:\n",
    "                continue\n",
    "            axs[row, col].tick_params(left=False, bottom=False)\n",
    "            sns.heatmap(specimen.genes['components'][:,row*4+col].reshape(8,8), ax=axs[row,col], cbar=False, vmin=0, vmax=best.genes['components'].max())\n",
    "def plot_all_diff(psqt, target, n_tables=12):\n",
    "    fig, axs = plt.subplots(n_tables//4, 4)\n",
    "    fig.figsize=(16, 12)\n",
    "    for row in range(n_tables//4):\n",
    "        for col in range(4):\n",
    "            axs[row, col].tick_params(left=False, bottom=False)\n",
    "            sns.heatmap((psqt[:,row*4+col] - target[:,row*4+col]).reshape(8,8),ax=axs[row,col], cmap='icefire', center=0, vmin=-20, vmax=20)\n",
    "            axs[row, col].set(xticklabels=[])\n",
    "            axs[row, col].set(yticklabels=[])\n",
    "def plot_all_tables(psqt):\n",
    "    n_tables = 12\n",
    "    fig, axs = plt.subplots(n_tables//4, 4)\n",
    "    fig.figsize=(16, 12)\n",
    "    for row in range(n_tables//4):\n",
    "        for col in range(4):\n",
    "            axs[row, col].tick_params(left=False, bottom=False)\n",
    "            sns.heatmap((psqt[:,row*4+col]).reshape(8,8), ax=axs[row,col], cbar=False)\n",
    "            axs[row, col].set(xticklabels=[])\n",
    "            axs[row, col].set(yticklabels=[])\n",
    "            # axs[row, col].legend([], [], frameon=False)"
   ]
  },
  {
   "cell_type": "code",
   "execution_count": null,
   "metadata": {},
   "outputs": [],
   "source": [
    "plot_all_tables(pesto_psqt)"
   ]
  },
  {
   "cell_type": "code",
   "execution_count": null,
   "metadata": {},
   "outputs": [],
   "source": [
    "plot_all_tables(best.get_phat())"
   ]
  },
  {
   "cell_type": "code",
   "execution_count": null,
   "metadata": {},
   "outputs": [],
   "source": [
    "plot_all_diff(best.get_phat(), pesto_psqt)"
   ]
  },
  {
   "cell_type": "code",
   "execution_count": null,
   "metadata": {},
   "outputs": [],
   "source": [
    "sns.histplot(best.genes['weights'].flatten())"
   ]
  },
  {
   "cell_type": "code",
   "execution_count": null,
   "metadata": {},
   "outputs": [],
   "source": [
    "plot_all_components(best)"
   ]
  }
 ],
 "metadata": {
  "kernelspec": {
   "display_name": "Python 3",
   "language": "python",
   "name": "python3"
  },
  "language_info": {
   "codemirror_mode": {
    "name": "ipython",
    "version": 3
   },
   "file_extension": ".py",
   "mimetype": "text/x-python",
   "name": "python",
   "nbconvert_exporter": "python",
   "pygments_lexer": "ipython3",
   "version": "3.11.2"
  },
  "orig_nbformat": 4
 },
 "nbformat": 4,
 "nbformat_minor": 2
}
